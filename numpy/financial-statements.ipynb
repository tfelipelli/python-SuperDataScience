{
  "cells": [
    {
      "cell_type": "code",
      "execution_count": 1,
      "metadata": {
        "collapsed": true,
        "id": "D4eMQyMz8Dc8"
      },
      "outputs": [],
      "source": [
        "# monthly revenue and monthly expenses for financial year\n",
        "revenue = [14574.49, 7606.46, 8611.41, 9175.41, 8058.65, 8105.44, 11496.28, 9766.09, 10305.32, 14379.96, 10713.97, 15433.50]\n",
        "\n",
        "expenses = [12051.82, 5695.07, 12319.20, 12089.72, 8658.57, 840.20, 3285.73, 5821.12, 6976.93, 16618.61, 10054.37, 3803.96]"
      ]
    },
    {
      "cell_type": "code",
      "execution_count": 6,
      "metadata": {},
      "outputs": [
        {
          "data": {
            "text/plain": [
              "[2522.67,\n",
              " 1911.3900000000003,\n",
              " -3707.790000000001,\n",
              " -2914.3099999999995,\n",
              " -599.9200000000001,\n",
              " 7265.24,\n",
              " 8210.550000000001,\n",
              " 3944.9700000000003,\n",
              " 3328.3899999999994,\n",
              " -2238.6500000000015,\n",
              " 659.5999999999985,\n",
              " 11629.54]"
            ]
          },
          "execution_count": 6,
          "metadata": {},
          "output_type": "execute_result"
        }
      ],
      "source": [
        "#grossprofit = revenue - expenses\n",
        "grossprofit = []\n",
        "\n",
        "for i in range (0, len(revenue)):\n",
        "    grossprofit.append(revenue[i] - expenses[i])\n",
        "profit"
      ]
    },
    {
      "cell_type": "code",
      "execution_count": 11,
      "metadata": {},
      "outputs": [
        {
          "data": {
            "text/plain": [
              "12"
            ]
          },
          "execution_count": 11,
          "metadata": {},
          "output_type": "execute_result"
        }
      ],
      "source": [
        "len(grossprofit)"
      ]
    },
    {
      "cell_type": "code",
      "execution_count": 7,
      "metadata": {},
      "outputs": [
        {
          "data": {
            "text/plain": [
              "[756.8,\n",
              " 573.42,\n",
              " -1112.34,\n",
              " -874.29,\n",
              " -179.98,\n",
              " 2179.57,\n",
              " 2463.17,\n",
              " 1183.49,\n",
              " 998.52,\n",
              " -671.6,\n",
              " 197.88,\n",
              " 3488.86]"
            ]
          },
          "execution_count": 7,
          "metadata": {},
          "output_type": "execute_result"
        }
      ],
      "source": [
        "#tax = 30% of Profit, round to 2 decimal points\n",
        "tax = [round(i * 0.3, 2) for i in grossprofit]\n",
        "tax"
      ]
    },
    {
      "cell_type": "code",
      "execution_count": 9,
      "metadata": {},
      "outputs": [
        {
          "data": {
            "text/plain": [
              "[1765.8700000000001,\n",
              " 1337.9700000000003,\n",
              " -2595.4500000000007,\n",
              " -2040.0199999999995,\n",
              " -419.94000000000005,\n",
              " 5085.67,\n",
              " 5747.380000000001,\n",
              " 2761.4800000000005,\n",
              " 2329.8699999999994,\n",
              " -1567.0500000000015,\n",
              " 461.71999999999855,\n",
              " 8140.68]"
            ]
          },
          "execution_count": 9,
          "metadata": {},
          "output_type": "execute_result"
        }
      ],
      "source": [
        "#netprofit after tax deducted\n",
        "netprofit = []\n",
        "\n",
        "for i in range (0, len(grossprofit)):\n",
        "    netprofit.append(grossprofit[i] - tax[i])\n",
        "netprofit"
      ]
    },
    {
      "cell_type": "code",
      "execution_count": 14,
      "metadata": {},
      "outputs": [
        {
          "data": {
            "text/plain": [
              "12"
            ]
          },
          "execution_count": 14,
          "metadata": {},
          "output_type": "execute_result"
        }
      ],
      "source": [
        "len(netprofit)"
      ]
    },
    {
      "cell_type": "code",
      "execution_count": 10,
      "metadata": {},
      "outputs": [
        {
          "data": {
            "text/plain": [
              "[12.12,\n",
              " 17.59,\n",
              " -30.14,\n",
              " -22.23,\n",
              " -5.21,\n",
              " 62.74,\n",
              " 49.99,\n",
              " 28.28,\n",
              " 22.61,\n",
              " -10.9,\n",
              " 4.31,\n",
              " 52.75]"
            ]
          },
          "execution_count": 10,
          "metadata": {},
          "output_type": "execute_result"
        }
      ],
      "source": [
        "#profit margin = profit after tax over revenue\n",
        "#tound to 2 decimal points, multiply by 100 to get %\n",
        "profit_margin = []\n",
        "for i in range (0, len(grossprofit)):\n",
        "    profit_margin.append(netprofit[i] / revenue[i])\n",
        "profit_margin\n",
        "\n",
        "profit_margin = [round(i*100, 2) for i in profit_margin]\n",
        "\n",
        "profit_margin"
      ]
    },
    {
      "cell_type": "code",
      "execution_count": 12,
      "metadata": {},
      "outputs": [
        {
          "data": {
            "text/plain": [
              "1750.6816666666664"
            ]
          },
          "execution_count": 12,
          "metadata": {},
          "output_type": "execute_result"
        }
      ],
      "source": [
        "#mean netprofit for 12 Months\n",
        "mean_pat = sum(netprofit) / len(grossprofit)\n",
        "mean_pat"
      ]
    },
    {
      "cell_type": "code",
      "execution_count": 13,
      "metadata": {},
      "outputs": [
        {
          "data": {
            "text/plain": [
              "[True, False, False, False, False, True, True, True, True, False, False, True]"
            ]
          },
          "execution_count": 13,
          "metadata": {},
          "output_type": "execute_result"
        }
      ],
      "source": [
        "#months above mean\n",
        "good_months = []\n",
        "for i in range (0, len(netprofit)):\n",
        "    good_months.append(netprofit[i] > mean_pat)\n",
        "good_months"
      ]
    },
    {
      "cell_type": "code",
      "execution_count": 15,
      "metadata": {},
      "outputs": [
        {
          "data": {
            "text/plain": [
              "[False, True, True, True, True, False, False, False, False, True, True, False]"
            ]
          },
          "execution_count": 15,
          "metadata": {},
          "output_type": "execute_result"
        }
      ],
      "source": [
        "#bad months = opposite of good months\n",
        "bad_months = []\n",
        "for i in range (0, len(netprofit)):\n",
        "    bad_months.append(not (good_months[i]))\n",
        "bad_months"
      ]
    },
    {
      "cell_type": "code",
      "execution_count": 16,
      "metadata": {},
      "outputs": [
        {
          "data": {
            "text/plain": [
              "[False,\n",
              " False,\n",
              " False,\n",
              " False,\n",
              " False,\n",
              " False,\n",
              " False,\n",
              " False,\n",
              " False,\n",
              " False,\n",
              " False,\n",
              " True]"
            ]
          },
          "execution_count": 16,
          "metadata": {},
          "output_type": "execute_result"
        }
      ],
      "source": [
        "#best month = MAX netprofit\n",
        "best_month = []\n",
        "for i in range (0, len(netprofit)):\n",
        "    best_month.append(netprofit[i] == max(netprofit))\n",
        "best_month"
      ]
    },
    {
      "cell_type": "code",
      "execution_count": 17,
      "metadata": {},
      "outputs": [
        {
          "data": {
            "text/plain": [
              "[False,\n",
              " False,\n",
              " True,\n",
              " False,\n",
              " False,\n",
              " False,\n",
              " False,\n",
              " False,\n",
              " False,\n",
              " False,\n",
              " False,\n",
              " False]"
            ]
          },
          "execution_count": 17,
          "metadata": {},
          "output_type": "execute_result"
        }
      ],
      "source": [
        "#worst month = MIN netprofit\n",
        "worst_month = []\n",
        "for i in range (0, len(netprofit)):\n",
        "    worst_month.append(netprofit[i] == min(netprofit))\n",
        "worst_month"
      ]
    },
    {
      "cell_type": "code",
      "execution_count": 21,
      "metadata": {},
      "outputs": [],
      "source": [
        "#convert all to units of 1,000 Dollars\n",
        "revenue_1000 = [round(i / 1000, 2) for i in revenue]\n",
        "expenses_1000 = [round(i / 1000, 2) for i in expenses]\n",
        "grossprofit_1000 = [round(i / 1000, 2) for i in grossprofit]\n",
        "netprofit_1000 = [round(i / 1000, 2) for i in netprofit]\n",
        "\n",
        "revenue_1000 = [int(i) for i in revenue_1000]\n",
        "expenses_1000 = [int(i) for i in expenses_1000]\n",
        "grossprofit_1000 = [int(i) for i in grossprofit_1000]\n",
        "netprofit_1000 = [int(i) for i in netprofit_1000]"
      ]
    },
    {
      "cell_type": "code",
      "execution_count": 22,
      "metadata": {},
      "outputs": [
        {
          "name": "stdout",
          "output_type": "stream",
          "text": [
            "Revenue :\n",
            "[14, 7, 8, 9, 8, 8, 11, 9, 10, 14, 10, 15]\n",
            "Expenses :\n",
            "[12, 5, 12, 12, 8, 0, 3, 5, 6, 16, 10, 3]\n",
            "Profit :\n",
            "[2, 1, -3, -2, 0, 7, 8, 3, 3, -2, 0, 11]\n",
            "Profit after tax :\n",
            "[1, 1, -2, -2, 0, 5, 5, 2, 2, -1, 0, 8]\n",
            "Profit margin :\n",
            "[12.12, 17.59, -30.14, -22.23, -5.21, 62.74, 49.99, 28.28, 22.61, -10.9, 4.31, 52.75]\n",
            "Good months :\n",
            "[True, False, False, False, False, True, True, True, True, False, False, True]\n",
            "Bad months :\n",
            "[False, True, True, True, True, False, False, False, False, True, True, False]\n",
            "Best month :\n",
            "[False, False, False, False, False, False, False, False, False, False, False, True]\n",
            "Worst month :\n",
            "[False, False, True, False, False, False, False, False, False, False, False, False]\n"
          ]
        }
      ],
      "source": [
        "#Print Results\n",
        "print (\"Revenue :\")\n",
        "print (revenue_1000)\n",
        "print (\"Expenses :\")\n",
        "print (expenses_1000)\n",
        "print (\"Profit :\")\n",
        "print(grossprofit_1000)\n",
        "print (\"Profit after tax :\")\n",
        "print (netprofit_1000)\n",
        "print (\"Profit margin :\")\n",
        "print (profit_margin)\n",
        "print (\"Good months :\")\n",
        "print (good_months)\n",
        "print (\"Bad months :\")\n",
        "print (bad_months)\n",
        "print (\"Best month :\")\n",
        "print (best_month)\n",
        "print (\"Worst month :\")\n",
        "print (worst_month)"
      ]
    }
  ],
  "metadata": {
    "colab": {
      "provenance": []
    },
    "kernelspec": {
      "display_name": ".venv",
      "language": "python",
      "name": "python3"
    },
    "language_info": {
      "codemirror_mode": {
        "name": "ipython",
        "version": 3
      },
      "file_extension": ".py",
      "mimetype": "text/x-python",
      "name": "python",
      "nbconvert_exporter": "python",
      "pygments_lexer": "ipython3",
      "version": "3.12.3"
    }
  },
  "nbformat": 4,
  "nbformat_minor": 0
}
