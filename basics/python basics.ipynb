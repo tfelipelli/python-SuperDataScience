{
 "cells": [
  {
   "cell_type": "code",
   "execution_count": 1,
   "metadata": {},
   "outputs": [],
   "source": [
    "# packages\n",
    "# system -> pip install packagename\n",
    "# code -> import packagename\n",
    "\n",
    "import numpy as np  # arrays = list with only 1 data type"
   ]
  },
  {
   "cell_type": "code",
   "execution_count": 2,
   "metadata": {},
   "outputs": [],
   "source": [
    "# lists -> use []\n",
    "x = list(range(1, 20, 2))\n",
    "\n",
    "# slicing\n",
    "y = x[2:15:2]\n",
    "\n",
    "# tuples = immutable lists -> use ()"
   ]
  },
  {
   "cell_type": "code",
   "execution_count": 3,
   "metadata": {},
   "outputs": [
    {
     "name": "stdout",
     "output_type": "stream",
     "text": [
      "[5, 9, 13, 17]\n"
     ]
    },
    {
     "data": {
      "text/plain": [
       "19"
      ]
     },
     "execution_count": 3,
     "metadata": {},
     "output_type": "execute_result"
    }
   ],
   "source": [
    "# functions\n",
    "print(y)\n",
    "len(y)\n",
    "max(y)\n",
    "min(y)\n",
    "type(y)\n",
    "\n",
    "# methods\n",
    "x.pop()"
   ]
  },
  {
   "cell_type": "code",
   "execution_count": 4,
   "metadata": {},
   "outputs": [],
   "source": [
    "a = np.array(x)\n",
    "a.mean()\n",
    "# slice is connected to array it came from\n",
    "b = a[2: 4]\n",
    "b[:] = 100\n",
    "# \"normal\" copy\n",
    "c = a.copy()"
   ]
  },
  {
   "cell_type": "code",
   "execution_count": 5,
   "metadata": {},
   "outputs": [
    {
     "data": {
      "text/plain": [
       "'val2'"
      ]
     },
     "execution_count": 5,
     "metadata": {},
     "output_type": "execute_result"
    }
   ],
   "source": [
    "# dictionaries -> use {}, stored in most efficient order\n",
    "dict1 = {\"label1\" : \"val1\", \"label2\" : \"val2\", \"label3\" : \"val3\"}\n",
    "dict1[\"label2\"]"
   ]
  }
 ],
 "metadata": {
  "kernelspec": {
   "display_name": ".venv",
   "language": "python",
   "name": "python3"
  },
  "language_info": {
   "codemirror_mode": {
    "name": "ipython",
    "version": 3
   },
   "file_extension": ".py",
   "mimetype": "text/x-python",
   "name": "python",
   "nbconvert_exporter": "python",
   "pygments_lexer": "ipython3",
   "version": "3.12.3"
  }
 },
 "nbformat": 4,
 "nbformat_minor": 2
}
